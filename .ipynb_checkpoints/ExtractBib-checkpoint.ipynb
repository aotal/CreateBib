{
 "cells": [
  {
   "cell_type": "code",
   "execution_count": 1,
   "metadata": {},
   "outputs": [],
   "source": [
    "from Bio import Entrez\n",
    "import numpy as np\n",
    "import datetime"
   ]
  },
  {
   "cell_type": "code",
   "execution_count": 2,
   "metadata": {},
   "outputs": [],
   "source": [
    "List=np.loadtxt('pmid-33664194-set.txt').astype(int)\n",
    "List=List.astype(str)\n",
    "#List=['28344605']"
   ]
  },
  {
   "cell_type": "code",
   "execution_count": 3,
   "metadata": {},
   "outputs": [],
   "source": [
    "def search(query):\n",
    "    Entrez.email = 'aotalpalacin@gmail.com'\n",
    "    handle = Entrez.esearch(db='pubmed',\n",
    "                            sort='relevance',\n",
    "                            retmax='20',\n",
    "                            retmode='xml',\n",
    "                            term=query)\n",
    "    results = Entrez.read(handle)\n",
    "    return results"
   ]
  },
  {
   "cell_type": "code",
   "execution_count": 4,
   "metadata": {},
   "outputs": [],
   "source": [
    "def fetch_details(id_list):\n",
    "    ids = ','.join(id_list)\n",
    "    Entrez.email = 'aotalpalacin@gmail.com'\n",
    "    handle = Entrez.efetch(db='pubmed',\n",
    "                           retmode='xml',\n",
    "                           id=ids)\n",
    "    results = Entrez.read(handle)\n",
    "    return results"
   ]
  },
  {
   "cell_type": "markdown",
   "metadata": {},
   "source": [
    "## Title"
   ]
  },
  {
   "cell_type": "code",
   "execution_count": 5,
   "metadata": {},
   "outputs": [],
   "source": [
    "papers=fetch_details(List)"
   ]
  },
  {
   "cell_type": "code",
   "execution_count": 6,
   "metadata": {},
   "outputs": [],
   "source": [
    "Title=lambda x:x['MedlineCitation']['Article']['ArticleTitle']"
   ]
  },
  {
   "cell_type": "markdown",
   "metadata": {},
   "source": [
    "## Authors"
   ]
  },
  {
   "cell_type": "code",
   "execution_count": 7,
   "metadata": {},
   "outputs": [],
   "source": [
    "def Author(X):\n",
    "    name=[]\n",
    "    for Y in X['MedlineCitation']['Article']['AuthorList']:\n",
    "        try:  \n",
    "            name.append(Y['LastName']+', '+ Y['ForeName'])\n",
    "        except:\n",
    "            name.append(Y['CollectiveName'])\n",
    "    return ' and '.join(name)"
   ]
  },
  {
   "cell_type": "markdown",
   "metadata": {},
   "source": [
    "## Year, Month, Volume, Number"
   ]
  },
  {
   "cell_type": "code",
   "execution_count": 8,
   "metadata": {},
   "outputs": [],
   "source": [
    "Year=lambda x:x['MedlineCitation']['Article']['ArticleDate'][0]['Year']"
   ]
  },
  {
   "cell_type": "code",
   "execution_count": 9,
   "metadata": {},
   "outputs": [
    {
     "data": {
      "text/plain": [
       "'2020'"
      ]
     },
     "execution_count": 9,
     "metadata": {},
     "output_type": "execute_result"
    }
   ],
   "source": [
    "Year(papers['PubmedArticle'][6])"
   ]
  },
  {
   "cell_type": "code",
   "execution_count": 10,
   "metadata": {},
   "outputs": [],
   "source": [
    "JournalIssue=lambda x:x['MedlineCitation']['Article']['Journal']['JournalIssue']"
   ]
  },
  {
   "cell_type": "code",
   "execution_count": 11,
   "metadata": {},
   "outputs": [
    {
     "data": {
      "text/plain": [
       "'ArticleDate'"
      ]
     },
     "execution_count": 11,
     "metadata": {},
     "output_type": "execute_result"
    }
   ],
   "source": [
    "'ArticleDate'"
   ]
  },
  {
   "cell_type": "markdown",
   "metadata": {},
   "source": [
    "## Pages"
   ]
  },
  {
   "cell_type": "code",
   "execution_count": 12,
   "metadata": {},
   "outputs": [],
   "source": [
    "Pages=lambda x:x['MedlineCitation']['Article']['Pagination']['MedlinePgn'].replace('-','--')"
   ]
  },
  {
   "cell_type": "markdown",
   "metadata": {},
   "source": [
    "## ISSN"
   ]
  },
  {
   "cell_type": "code",
   "execution_count": 13,
   "metadata": {},
   "outputs": [],
   "source": [
    "Issn=lambda x:str(x['MedlineCitation']['Article']['Journal']['ISSN'])"
   ]
  },
  {
   "cell_type": "markdown",
   "metadata": {},
   "source": [
    "## Doi"
   ]
  },
  {
   "cell_type": "code",
   "execution_count": 14,
   "metadata": {},
   "outputs": [],
   "source": [
    "Doi=lambda x:str(x['MedlineCitation']['Article']['ELocationID'][0])"
   ]
  },
  {
   "cell_type": "markdown",
   "metadata": {},
   "source": [
    "## Abstract"
   ]
  },
  {
   "cell_type": "code",
   "execution_count": 15,
   "metadata": {},
   "outputs": [],
   "source": [
    "def Abstract(X):\n",
    "    text=[Y.attributes['Label']+': '+str(Y) for Y in X['MedlineCitation']['Article']['Abstract']['AbstractText']]\n",
    "    return ' '.join(text)"
   ]
  },
  {
   "cell_type": "markdown",
   "metadata": {},
   "source": [
    "## Copyright"
   ]
  },
  {
   "cell_type": "code",
   "execution_count": 16,
   "metadata": {},
   "outputs": [],
   "source": [
    "copyright='All rights reserved'"
   ]
  },
  {
   "cell_type": "markdown",
   "metadata": {},
   "source": [
    "## Journal"
   ]
  },
  {
   "cell_type": "code",
   "execution_count": 17,
   "metadata": {},
   "outputs": [],
   "source": [
    "Journal=lambda x:x['MedlineCitation']['Article']['Journal']['Title']"
   ]
  },
  {
   "cell_type": "markdown",
   "metadata": {},
   "source": [
    "## Keywords"
   ]
  },
  {
   "cell_type": "code",
   "execution_count": 18,
   "metadata": {},
   "outputs": [],
   "source": [
    "def Keywords(X):\n",
    "    words=[str(Y) for Y in X['MedlineCitation']['KeywordList'][0]]\n",
    "    return ','.join(words)"
   ]
  },
  {
   "cell_type": "markdown",
   "metadata": {},
   "source": [
    "## Language"
   ]
  },
  {
   "cell_type": "code",
   "execution_count": 19,
   "metadata": {},
   "outputs": [],
   "source": [
    "Language=lambda x:x['MedlineCitation']['Article']['Language'][0]"
   ]
  },
  {
   "cell_type": "markdown",
   "metadata": {},
   "source": [
    "## PMID"
   ]
  },
  {
   "cell_type": "code",
   "execution_count": 20,
   "metadata": {},
   "outputs": [],
   "source": [
    "PMID=lambda x:str(x['MedlineCitation']['PMID'])"
   ]
  },
  {
   "cell_type": "markdown",
   "metadata": {},
   "source": [
    "## Key"
   ]
  },
  {
   "cell_type": "code",
   "execution_count": 21,
   "metadata": {},
   "outputs": [],
   "source": [
    "def Keygenerator(X,year):\n",
    "    li = list(Title(X).split(\" \"))\n",
    "    out=[]\n",
    "    i=0\n",
    "    for x in li:\n",
    "        if (len(x)>3 and i<3):\n",
    "            out.append(x)\n",
    "            i=i+1\n",
    "    X['MedlineCitation']['Article']['AuthorList']\n",
    "    return X['MedlineCitation']['Article']['AuthorList'][0]['LastName'].lower()+''.join(out)+year"
   ]
  },
  {
   "cell_type": "code",
   "execution_count": 22,
   "metadata": {},
   "outputs": [],
   "source": [
    "Llaves=lambda x:'{'+x+'}'"
   ]
  },
  {
   "cell_type": "code",
   "execution_count": 56,
   "metadata": {},
   "outputs": [],
   "source": [
    "def CreateReference(X):\n",
    "    title='title = '+Llaves(Title(X))\n",
    "    author='author = '+Llaves(Author(X))\n",
    "    try:\n",
    "        year='year = '+JournalIssue(X)['PubDate']['Year']\n",
    "    except:\n",
    "        year='year = '+JournalIssue(X)['PubDate']['MedlineDate']\n",
    "    key=Keygenerator(X,PMID(X))\n",
    "    pmid='pmid = '+Llaves(PMID(X))\n",
    "    try:\n",
    "        month='month = '+JournalIssue(X)['PubDate']['Month']\n",
    "    except:\n",
    "        month='month = '+' '\n",
    "    try:\n",
    "        volume='volume = '+Llaves(JournalIssue(X)['Volume'])\n",
    "    except:\n",
    "        volume='volume = '+Llaves(' ')\n",
    "    try:\n",
    "        number='number = '+Llaves(JournalIssue(X)['Issue'])\n",
    "    except:\n",
    "        number='number = '+Llaves(' ')\n",
    "    try:\n",
    "        pages='pages = '+Llaves(Pages(X))\n",
    "    except:\n",
    "        pages='pages = '+Llaves(' ')\n",
    "    try:\n",
    "        issn='issn = '+Llaves(Issn(X))\n",
    "    except:\n",
    "        issn='issn = '+Llaves(' ')\n",
    "    try:\n",
    "        doi='doi = '+Llaves(Doi(X))\n",
    "    except:\n",
    "        doi='doi = '+Llaves(' ')\n",
    "    try:\n",
    "        abstract='abstract = '+Llaves(Abstract(X))\n",
    "    except:\n",
    "        abstract='abstract = '+Llaves(' ')\n",
    "    try:\n",
    "        journal='journal = '+Llaves(Journal(X))\n",
    "    except:\n",
    "        journal='journal = '+Llaves(' ')\n",
    "    try:\n",
    "        keywords='keywords = '+Llaves(Keywords(X))\n",
    "    except:\n",
    "        keywords='keywords = '+Llaves(' ')\n",
    "    try:    \n",
    "        language='language = '+Llaves(Language(X))\n",
    "    except:\n",
    "        language='language = '+Llaves(' ')\n",
    "    return '@article'+Llaves(',\\n'.join([key,title,author,year,month,volume,number,pages,issn,doi,abstract,journal,keywords,language,pmid]))\n",
    "    \n",
    "    \n",
    "    \n",
    "    "
   ]
  },
  {
   "cell_type": "code",
   "execution_count": 57,
   "metadata": {},
   "outputs": [
    {
     "data": {
      "text/plain": [
       "'Nasal vestibule and columella cancer: a therapeutic and reconstructive conundrum.'"
      ]
     },
     "execution_count": 57,
     "metadata": {},
     "output_type": "execute_result"
    }
   ],
   "source": [
    "Title(papers['PubmedArticle'][0])"
   ]
  },
  {
   "cell_type": "code",
   "execution_count": 58,
   "metadata": {},
   "outputs": [],
   "source": [
    "J=[CreateReference(X) for X in papers['PubmedArticle']]"
   ]
  },
  {
   "cell_type": "code",
   "execution_count": 59,
   "metadata": {},
   "outputs": [
    {
     "data": {
      "text/plain": [
       "'@article{yogoSourcepositionmeasurement33216999,\\ntitle = {Source position measurement by Cherenkov emission imaging from applicators for high-dose-rate brachytherapy.},\\nauthor = {Yogo, Katsunori and Noguchi, Yumiko and Okudaira, Kuniyasu and Nozawa, Marika and Ishiyama, Hiromichi and Okamoto, Hiroyuki and Yasuda, Hiroshi and Oguchi, Hiroshi and Yamamoto, Seiichi},\\nyear = 2021,\\nmonth = Jan,\\nvolume = {48},\\nnumber = {1},\\npages = {488--499},\\nissn = {2473-4209},\\ndoi = {10.1002/mp.14606},\\nabstract = {PURPOSE: We developed a novel and simple method to measure the source positions in applicators directly for high-dose-rate (HDR) brachytherapy based on Cherenkov emission imaging, and evaluated the performance. METHODS: The light emission from plastic applicators used in cervical cancer treatments, irradiated by an <sup>192</sup> Ir γ-ray source, was captured using a charge-coupled device camera. Moreover, we attached plastics of different shapes, including tapes, tubes, and plates to a metal applicator, to use as screens for the Cherenkov imaging. We determined the source positions and dwell intervals from the light profiles along with the applicator and compared these with preset values and dummy marker measurements. RESULTS: The source positions and dwell intervals measured from the light images were comparable to the dummy marker measurements and preset values. The distance from the applicator tip to the first source positions agreed with the dummy marker measurements within 0.2\\xa0mm for the plastic tandem. The dwell intervals measured using the Cherenkov method agreed with the preset values within 0.6\\xa0mm. The distances measured with three plastic types on the metal applicator also agreed with the dummy marker measurements within 0.2\\xa0mm. The dwell intervals measured using the plastic tape agreed with the preset values within 0.7\\xa0mm. CONCLUSIONS: The proposed method should be suitable for rapid and easy quality assurance (QA) investigations in HDR brachytherapy, as it enables source position using a single image. The method allows for real-time, filmless measurements of the source positions to be obtained and is useful for rapid feedback in QA procedures.},\\njournal = {Medical physics},\\nkeywords = {Cherenkov emission,applicator,high-dose-rate brachytherapy,quality assurance,source position measurement},\\nlanguage = {eng},\\npmid = {33216999}}'"
      ]
     },
     "execution_count": 59,
     "metadata": {},
     "output_type": "execute_result"
    }
   ],
   "source": [
    "CreateReference(papers['PubmedArticle'][2])"
   ]
  },
  {
   "cell_type": "code",
   "execution_count": 60,
   "metadata": {},
   "outputs": [],
   "source": [
    "out='\\n'.join(J)"
   ]
  },
  {
   "cell_type": "code",
   "execution_count": 61,
   "metadata": {},
   "outputs": [
    {
     "data": {
      "text/plain": [
       "116809"
      ]
     },
     "execution_count": 61,
     "metadata": {},
     "output_type": "execute_result"
    }
   ],
   "source": [
    "File_object = open(r\"jaja.txt\",\"w\")\n",
    "File_object.write(out)"
   ]
  },
  {
   "cell_type": "code",
   "execution_count": null,
   "metadata": {},
   "outputs": [],
   "source": [
    "J"
   ]
  },
  {
   "cell_type": "code",
   "execution_count": null,
   "metadata": {},
   "outputs": [],
   "source": []
  }
 ],
 "metadata": {
  "kernelspec": {
   "display_name": "Python 3",
   "language": "python",
   "name": "python3"
  },
  "language_info": {
   "codemirror_mode": {
    "name": "ipython",
    "version": 3
   },
   "file_extension": ".py",
   "mimetype": "text/x-python",
   "name": "python",
   "nbconvert_exporter": "python",
   "pygments_lexer": "ipython3",
   "version": "3.8.3"
  }
 },
 "nbformat": 4,
 "nbformat_minor": 4
}
